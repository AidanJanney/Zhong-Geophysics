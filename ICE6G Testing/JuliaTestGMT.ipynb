{
 "cells": [
  {
   "cell_type": "code",
   "execution_count": null,
   "metadata": {},
   "outputs": [],
   "source": [
    "# Run in Julia 1.10.3"
   ]
  },
  {
   "cell_type": "code",
   "execution_count": 2,
   "metadata": {},
   "outputs": [],
   "source": [
    "import Downloads, SimpleBufferStream, CodecZlib, CSV, DataFrames, GZip"
   ]
  },
  {
   "cell_type": "code",
   "execution_count": 4,
   "metadata": {},
   "outputs": [
    {
     "name": "stdout",
     "output_type": "stream",
     "text": [
      "test\n"
     ]
    }
   ],
   "source": [
    "\n",
    "\n",
    "url = \"https://www.atmosp.physics.utoronto.ca/~peltier/datasets/Ice6G_C_VM5a/I6_C.VM5a_1deg.19.5.nc.gz\";\n",
    "\n",
    "df = @sync begin\n",
    "    # BufferStream for in-flight bytes\n",
    "    bs = SimpleBufferStream.BufferStream()\n",
    "    # Download bytes into a decompressor stream\n",
    "    @async begin\n",
    "        io = CodecZlib.GzipDecompressorStream(bs)\n",
    "        Downloads.download(url, io)\n",
    "        close(io) # close to signal we are done\n",
    "    end\n",
    "    # Read decompressed bytes from bs into a DataFrame\n",
    "    csv_task = @async begin\n",
    "        f = CSV.File(bs)\n",
    "        DataFrames.DataFrame(f)\n",
    "    end\n",
    "    df = fetch(csv_task)\n",
    "end"
   ]
  },
  {
   "cell_type": "code",
   "execution_count": null,
   "metadata": {},
   "outputs": [],
   "source": []
  }
 ],
 "metadata": {
  "kernelspec": {
   "display_name": "Julia 1.10.3",
   "language": "julia",
   "name": "julia-1.10"
  },
  "language_info": {
   "file_extension": ".jl",
   "mimetype": "application/julia",
   "name": "julia",
   "version": "1.10.3"
  }
 },
 "nbformat": 4,
 "nbformat_minor": 2
}
