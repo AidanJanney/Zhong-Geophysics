version https://git-lfs.github.com/spec/v1
oid sha256:453da32c857778a403f6bee42f0b094720e46fdd57bf361098c24f4a482d0ed6
size 729719
